{
 "cells": [
  {
   "cell_type": "code",
   "execution_count": 1,
   "id": "cc16abdf",
   "metadata": {},
   "outputs": [],
   "source": [
    "import datetime\n",
    "import cx_Oracle\n",
    "import pandas as pd\n",
    "import sqlalchemy as sqla\n",
    "import sys\n"
   ]
  },
  {
   "cell_type": "code",
   "execution_count": 2,
   "id": "fc9ea56f",
   "metadata": {},
   "outputs": [
    {
     "name": "stdout",
     "output_type": "stream",
     "text": [
      "2.0.7\n",
      "8.3.0\n"
     ]
    },
    {
     "data": {
      "text/plain": [
       "(21, 9, 0, 0, 0)"
      ]
     },
     "execution_count": 2,
     "metadata": {},
     "output_type": "execute_result"
    }
   ],
   "source": [
    "lib_dir = r\"C:\\instantclient-basic-windows.x64-21.9.0.0.0dbru\\instantclient_21_9\"\n",
    "try:\n",
    "    cx_Oracle.init_oracle_client(lib_dir=lib_dir)\n",
    "except Exception as err:\n",
    "    print(\"Error connecting: cx_Oracle.init_oracle_client()\")\n",
    "    print(err)\n",
    "    sys.exit(1)\n",
    "\n",
    "# Test to see if it will print the version of sqlalchemy\n",
    "print(sqla.__version__)    # this returns 1.2.15 for me\n",
    "\n",
    "# Test to see if the cx_Oracle is recognized\n",
    "print(cx_Oracle.version)   # this returns 8.0.1 for me\n",
    "\n",
    "# This fails for me at this point but will succeed after the solution described below\n",
    "cx_Oracle.clientversion()\n",
    "\n"
   ]
  },
  {
   "cell_type": "code",
   "execution_count": 3,
   "id": "7ae42f2e",
   "metadata": {},
   "outputs": [],
   "source": [
    "def account_creation(name, mobile_num, email_id, account_type, password):\n",
    "    account_id = '91'+mobile_num\n",
    "    min_bal = 1000\n",
    "    balance = min_bal\n",
    "    account_creation_date = datetime.datetime.now().strftime(\"%d-%m-%Y\")\n",
    "    account_num = mobile_num\n",
    "    account_id1 = account_id\n",
    "    con = cx_Oracle.connect(user=\"U1\", password='U1', dsn=\"localhost/xepdb1\")\n",
    "    cursor = con.cursor()\n",
    "    query = \"insert into account values('{}','{}',{},'{}',{},'{}',{},TO_DATE('{}', 'dd-mm-yyyy'),{},'{}','{}')\".format(\n",
    "        account_id, account_type, min_bal, name, mobile_num, email_id, balance, account_creation_date, account_num, password, account_id1)\n",
    "    print(query)\n",
    "    d = cursor.execute(query)\n",
    "    con.commit()"
   ]
  },
  {
   "cell_type": "code",
   "execution_count": null,
   "id": "ac9632af",
   "metadata": {},
   "outputs": [],
   "source": []
  }
 ],
 "metadata": {
  "kernelspec": {
   "display_name": "Python 3 (ipykernel)",
   "language": "python",
   "name": "python3"
  },
  "language_info": {
   "codemirror_mode": {
    "name": "ipython",
    "version": 3
   },
   "file_extension": ".py",
   "mimetype": "text/x-python",
   "name": "python",
   "nbconvert_exporter": "python",
   "pygments_lexer": "ipython3",
   "version": "3.10.10"
  }
 },
 "nbformat": 4,
 "nbformat_minor": 5
}
